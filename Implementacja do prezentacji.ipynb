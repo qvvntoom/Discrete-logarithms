{
 "cells": [
  {
   "cell_type": "markdown",
   "id": "8fad31c6",
   "metadata": {},
   "source": [
    "# Funkcje:"
   ]
  },
  {
   "cell_type": "code",
   "execution_count": 10,
   "id": "65002208",
   "metadata": {},
   "outputs": [],
   "source": [
    "### WYMIANA KLUCZA DIFFIEGO-HELLMANA\n",
    "def Diffie_Hellman_key_exchange(p,g,a,b):\n",
    "    \n",
    "    if is_prime(p) == True:\n",
    "    \n",
    "        if Mod(g,p).is_primitive_root() == True:\n",
    "            \n",
    "            x = power_mod(g,a,p)\n",
    "            y = power_mod(g,b,p)\n",
    "            s_k_a = power_mod(y,a,p)\n",
    "            s_k_b = power_mod(x,b,p)\n",
    "            s_k_a_b = power_mod(g,a*b,p)\n",
    "\n",
    "            print(\"Użytkownicy uzgodnili liczbę pierwszą p = \",p)\n",
    "            print(\"\")\n",
    "            print(\"Za jej pierwiastek pierwotny wzięli liczbę g = \",g)\n",
    "            print(\"\")\n",
    "            print(\"Użytkownik A wybrał tajną liczbę :\",a,\", oraz przesłał użytkownikowi B wartość :\",x)\n",
    "            print(\"\")\n",
    "            print(\"Użytkownik B wybrał tajną liczbę :\",b,\", oraz przesłał użytkownikowi A wartość :\",y)\n",
    "            print(\"\")\n",
    "            print(\"Wspólnym tajnym kluczem obliczonym przez A jest :\",s_k_a)\n",
    "            print(\"\")\n",
    "            print(\"Wspólnym tajnym kluczem obliczonym przez B jest :\",s_k_b)\n",
    "            print(\"\")\n",
    "            print(\"Sprawdzamy zgodność kluczy :\",s_k_a_b)\n",
    "            \n",
    "        else:\n",
    "            print(\"Uzgodniona liczba g nie jest pierwiastkiem pierwotnym.\")\n",
    "    else:\n",
    "        print(\"Wybrana liczba p nie jest pierwsza.\")\n",
    "\n",
    "### ALGORYTM GENEROWANIA KLUCZA ELGAMAL        \n",
    "def ElGamal_public_key(p,g,k):\n",
    "    \n",
    "    if is_prime(p) == True:\n",
    "        \n",
    "        if Mod(g,p).is_primitive_root() == True:\n",
    "\n",
    "            if k > 0 and k < p-1:\n",
    "                x = power_mod(g,k,p)\n",
    "                print(\"Użytkownik wybrał liczbę pierwszą: p = \",p)\n",
    "                print(\"\")\n",
    "                print(\"Za jej pierwiastek pierwotny wziął liczbę: g = \",g)\n",
    "                print(\"\")\n",
    "                print(\"Jego kluczem prywatnym jest liczba: k = \",k)\n",
    "                print(\"\")\n",
    "                print(\"Klucz publiczny tego użytkownika to trójka:\",(p,g,x))\n",
    "                K = (p,g,x)\n",
    "                \n",
    "            else:\n",
    "                print(\"Liczba wybrana przez użytkownika jest nieodpowiednia.\")\n",
    "        else:\n",
    "            print(\"Uzgodniona liczba g nie jest pierwiastkiem pierwotnym.\")\n",
    "    else:\n",
    "        print(\"Wybrana liczba p nie jest pierwsza.\")\n",
    "        \n",
    "    return K\n",
    "\n",
    "### FUNKCJE POMOCNICZE\n",
    "def letters_to_indices(s):\n",
    "    return [ord(char.upper()) - ord('A') for char in s if char.isalpha()]\n",
    "\n",
    "def indices_to_letters(indices):\n",
    "    return ''.join(chr(index + ord('A')) for index in indices)\n",
    "\n",
    "\n",
    "### ALGORYTM SZYFROWANIA ELGAMAL\n",
    "def ElGamal_encryption_algorithm(message,users_key,j):\n",
    "    p = users_key[0]\n",
    "    g = users_key[1]\n",
    "    x = users_key[2]\n",
    "    \n",
    "    if j > 0 and j < p-1:\n",
    "        M = letters_to_indices(message)\n",
    "\n",
    "        C1 = power_mod(g,j,p)\n",
    "        xj = power_mod(x,j,p)\n",
    "\n",
    "        cipher = [(M[k]*xj)%p for k in range(len(M))]\n",
    "        cipher_output = (C1,cipher)\n",
    "        \n",
    "        print(\"Użytkownik chce przesłać wiadomość do osoby o kluczu publicznym :\",users_key)\n",
    "        print(\"\")\n",
    "        print(\"Wiadomość którą chce wysłać to :\",message)\n",
    "        print(\"\")\n",
    "        print(\"Wybrał liczbę j = \",j)\n",
    "        print(\"\")\n",
    "        print(\"Szyfrogramem jego wiadomośći jest :\",cipher_output)\n",
    "    else:\n",
    "        print(\"Wybrana liczba j jest nieodpowiednia.\")\n",
    "    \n",
    "    return cipher_output\n",
    "\n",
    "\n",
    "### ALGORYTM DESZYFROWANIA ELGAMAL\n",
    "def ElGamal_decryption_algorithm(cipher,secret_key,public_key):\n",
    "    C1 = cipher[0]\n",
    "    cipher_input = cipher[1]\n",
    "    k = secret_key\n",
    "    p = public_key[0]\n",
    "    \n",
    "    C1_rec = power_mod(C1,-k,p)\n",
    "    decripted_cipher = [(cipher_input[k]*C1_rec)%p for k in range(len(cipher_input))]\n",
    "    \n",
    "    decrypted_message = indices_to_letters(decripted_cipher)\n",
    "    \n",
    "    print(\"Odszyfrowana wiadomość to:\", decrypted_message)\n",
    "    \n",
    "    return decrypted_message\n",
    "\n",
    "\n",
    "### METODA PRZELICZANIA\n",
    "def Brute_force_method(a,b,n, details = False):\n",
    "    if details == True:\n",
    "        print(\"Rozważamy zagadnienie:\",a,\"^x =\",b,\"( mod\",n,\")\\n\")\n",
    "    al = Mod(b,n)\n",
    "    bl = Mod(a,n)\n",
    "    i = 0\n",
    "    y = Mod(1,n)\n",
    "    while True:\n",
    "        y = y*bl\n",
    "        if y ==al:\n",
    "            break\n",
    "        i +=1\n",
    "    if details == True:\n",
    "        print(\"Wynik końcowy x =\", i+1)\n",
    "    return i+1\n",
    "\n",
    "### ALGORYTM MAŁYCH I WIELKICH KROKÓW\n",
    "def Baby_giant_step(a,b,n,details = False, sets_display=False):\n",
    "    Zn = Integers(n)\n",
    "    al = Zn(b)\n",
    "    bl = Zn(a)\n",
    "    m = ceil(sqrt(n))\n",
    "    B = [al*bl^(-r) for r in range(m)]\n",
    "    delta = bl^Integer(m)\n",
    "    j = 0\n",
    "    delq = Zn(1)\n",
    "    delty = []\n",
    "    if details == True:\n",
    "        print(\"Rozważamy zagadnienie:\",a,\"^x =\",b,\"( mod\",n,\")\\n\")\n",
    "        print(\"m =\",m)\n",
    "        print(\"\")\n",
    "    while j<m:\n",
    "        j += 1\n",
    "        delq = delq * delta\n",
    "        delty.append(delq)\n",
    "        for i in range(m):\n",
    "            if delq==B[i]:\n",
    "                x = m*j + i\n",
    "                j=m\n",
    "                break\n",
    "    if details == True:\n",
    "        if sets_display == True:\n",
    "            print(\"Zbiór małych kroków:\")\n",
    "            print(B)\n",
    "            print(\"\")\n",
    "            print(\"Zbiór wielkich kroków:\")\n",
    "            print(delty)\n",
    "            print(\"\")\n",
    "        print(\"Pierwszy element zbioru wielkich kroków, który pokrył się z poprzednikiem w zbiorze małych kroków, to:\",delq)\n",
    "        print(\"\")\n",
    "        print(\"Ma on numer: j =\",len(delty),\", oraz odpowiada małemu krokowi z numerem: i =\",B.index(delq))\n",
    "        print(\"\")\n",
    "        print(\"Zgodnie ze wzorem, mamy: x =\",len(delty),\"*\",m,\"+\",B.index(delq))\n",
    "        print(\"\")\n",
    "        print(\"Wynik końcowy: x =\",x)\n",
    "    return x\n",
    "\n",
    "\n",
    "### ALGORYTM POHLIGA-HELLMANA\n",
    "def Pohlig_Hellman_algorithm(a,b,n, details = False):\n",
    "    if details == True:\n",
    "        print(\"Zagadnienie:\",a,\"^x =\",b,\"( mod\",n,\"), można zastąpić przez: \\n\")\n",
    "    fa = factor(n-1)\n",
    "    fl = len(fa)\n",
    "    x=[]\n",
    "    y=[]\n",
    "    p_list=[]\n",
    "    e_list=[]\n",
    "    for i in range(fl):\n",
    "        p=fa[i][0]\n",
    "        e=fa[i][1]\n",
    "        np = (n-1)/p^e\n",
    "        bp = power_mod(b,np,n)\n",
    "        ap = power_mod(a,np,n)\n",
    "        \n",
    "        disc = discrete_log(Mod(bp,n),Mod(ap,n))\n",
    "        p_list.append(p)\n",
    "        e_list.append(e)\n",
    "        x.append(disc)\n",
    "        y.append(fa[i][0]^fa[i][1])\n",
    "        if details == True:\n",
    "            print(ap,\"^x(\",p,\") =\",bp,\" (mod\",n,\") z rozwiązaniem x(\",p,\") = \", disc) \n",
    "    if details == True:\n",
    "        print(\"\")\n",
    "        print(\"Zgodnie z twierdzeniem:\")\n",
    "        for i in range(fl):\n",
    "            print(\"x =\",x[i],\" (mod\", p_list[i],\"^\",e_list[i],\")\")\n",
    "\n",
    "        print(\"\\nWynik końcowy: x =\",CRT_list(x,y))\n",
    "    return CRT_list(x,y)\n",
    "\n",
    "### PORÓWNANIE ALGORYTMÓW\n",
    "import time\n",
    "def Compare_algorithms(a,b,n):\n",
    "    start_time = time.time()\n",
    "    result = Brute_force_method(a, b, n)\n",
    "    end_time = time.time()\n",
    "    elapsed_time = end_time - start_time\n",
    "    print(\"Czas wykonania: Metoda przeliczania:\",elapsed_time,\"sekund\\n\")\n",
    "    \n",
    "    start_time = time.time()\n",
    "    result = Baby_giant_step(a, b, n)\n",
    "    end_time = time.time()\n",
    "    elapsed_time = end_time - start_time\n",
    "    print(\"Czas wykonania: Algorytm małych i wielkich kroków:\",elapsed_time,\"sekund\\n\")\n",
    "    \n",
    "    start_time = time.time()\n",
    "    result = Pohlig_Hellman_algorithm(a, b, n)\n",
    "    end_time = time.time()\n",
    "    elapsed_time = end_time - start_time\n",
    "    print(\"Czas wykonania: Algorytm Diffiego-Hellmana:\",elapsed_time,\"sekund\")"
   ]
  },
  {
   "cell_type": "markdown",
   "id": "143d3227",
   "metadata": {},
   "source": [
    "# Wymiana klucza Diffiego-Hellmana"
   ]
  },
  {
   "cell_type": "code",
   "execution_count": 11,
   "id": "31402282",
   "metadata": {},
   "outputs": [
    {
     "data": {
      "application/vnd.jupyter.widget-view+json": {
       "model_id": "ab67d2189ade41aea4e141591b0ec95a",
       "version_major": 2,
       "version_minor": 0
      },
      "text/plain": [
       "Interactive function <function interactive_diffie_hellman at 0x7fbd07fe71a0> with 5 widgets\n",
       "  p: EvalText(value='19', description='Wartość p:', layout=Layout(max_width='81em'))\n",
       "  g: EvalText(value='2', description='Wartość g:', layout=Layout(max_width='81em'))\n",
       "  a: EvalText(value='7', description='Wartość a:', layout=Layout(max_width='81em'))\n",
       "  b: EvalText(value='4', description='Wartość b:', layout=Layout(max_width='81em'))\n",
       "  execute: Checkbox(value=False, description='Wykonaj')"
      ]
     },
     "metadata": {},
     "output_type": "display_data"
    }
   ],
   "source": [
    "@interact\n",
    "def interactive_diffie_hellman( p=input_box(19, label=\"Wartość p:\"),\n",
    "                                g=input_box(2, label=\"Wartość g:\"),\n",
    "                                a=input_box(7, label=\"Wartość a:\"),\n",
    "                                b=input_box(4, label=\"Wartość b:\"),\n",
    "                                execute=checkbox(False, label=\"Wykonaj\")):\n",
    "    if execute:\n",
    "        result = Diffie_Hellman_key_exchange(p,g,a,b)\n"
   ]
  },
  {
   "cell_type": "markdown",
   "id": "c5059602",
   "metadata": {},
   "source": [
    "# Generowanie klucza w systemie ElGamal'a"
   ]
  },
  {
   "cell_type": "code",
   "execution_count": 12,
   "id": "225c9204",
   "metadata": {},
   "outputs": [
    {
     "data": {
      "application/vnd.jupyter.widget-view+json": {
       "model_id": "f3f723c38d7a483096edadddc0b87797",
       "version_major": 2,
       "version_minor": 0
      },
      "text/plain": [
       "Interactive function <function interactive_ElGamal_public_key at 0x7fbd07fe7880> with 4 widgets\n",
       "  p: EvalText(value='113', description='Wartość p:', layout=Layout(max_width='81em'))\n",
       "  g: EvalText(value='3', description='Wartość g:', layout=Layout(max_width='81em'))\n",
       "  k: EvalText(value='37', description='Wartość k:', layout=Layout(max_width='81em'))\n",
       "  execute: Checkbox(value=False, description='Wykonaj')"
      ]
     },
     "metadata": {},
     "output_type": "display_data"
    }
   ],
   "source": [
    "@interact\n",
    "def interactive_ElGamal_public_key( p=input_box(113, label=\"Wartość p:\"),\n",
    "                                    g=input_box(3, label=\"Wartość g:\"),\n",
    "                                    k=input_box(37, label=\"Wartość k:\"),\n",
    "                                    execute=checkbox(False, label=\"Wykonaj\")):\n",
    "    if execute:\n",
    "        result = ElGamal_public_key(p,g,k)"
   ]
  },
  {
   "cell_type": "markdown",
   "id": "df769737",
   "metadata": {},
   "source": [
    "# Algorytm szyfrowania ElGamal"
   ]
  },
  {
   "cell_type": "code",
   "execution_count": 13,
   "id": "b4294d0e",
   "metadata": {},
   "outputs": [
    {
     "data": {
      "application/vnd.jupyter.widget-view+json": {
       "model_id": "6e2b5ad888c84d548b5309c6796abc89",
       "version_major": 2,
       "version_minor": 0
      },
      "text/plain": [
       "Interactive function <function interactive_ElGamal_encryption_algorithm at 0x7fbd07fe7420> with 4 widgets\n",
       "  message: TransformText(value='SZYFR', description='Wiadomość:', layout=Layout(max_width='81em'))\n",
       "  users_key: EvalText(value='(43, 3, 22)', description='Klucz:', layout=Layout(max_width='81em'))\n",
       "  j: EvalText(value='23', description='Wartość j:', layout=Layout(max_width='81em'))\n",
       "  execute: Checkbox(value=False, description='Szyfruj')"
      ]
     },
     "metadata": {},
     "output_type": "display_data"
    }
   ],
   "source": [
    "@interact\n",
    "def interactive_ElGamal_encryption_algorithm( message=input_box(\"SZYFR\", label=\"Wiadomość:\", type=str),\n",
    "                                              users_key=input_box((43,3,22), label=\"Klucz:\"),\n",
    "                                              j=input_box(23, label=\"Wartość j:\"),\n",
    "                                              execute=checkbox(False, label=\"Szyfruj\")):\n",
    "    if execute:\n",
    "        result = ElGamal_encryption_algorithm(message,users_key,j)"
   ]
  },
  {
   "cell_type": "markdown",
   "id": "d5b84bdd",
   "metadata": {},
   "source": [
    "# Algorytm deszyfrowania ElGamal"
   ]
  },
  {
   "cell_type": "code",
   "execution_count": 14,
   "id": "2c426cc5",
   "metadata": {},
   "outputs": [
    {
     "data": {
      "application/vnd.jupyter.widget-view+json": {
       "model_id": "0ead6b0098a84d09a7a9f41c95dec055",
       "version_major": 2,
       "version_minor": 0
      },
      "text/plain": [
       "Interactive function <function interactive_ElGamal_decryption_algorithm at 0x7fbd07fe6980> with 5 widgets\n",
       "  C1: EvalText(value='34', description='C1:', layout=Layout(max_width='81em'))\n",
       "  C2: TransformText(value='[17, 26, 37, 31, 28]', description='C2:', layout=Layout(max_width='81em'))\n",
       "  secret_key: EvalText(value='15', description='Klucz pryw:', layout=Layout(max_width='81em'))\n",
       "  public_key: TransformText(value='(43,3,22)', description='Klucz publ:', layout=Layout(max_width='81em'))\n",
       "  execute: Checkbox(value=False, description='Rozszyfruj')"
      ]
     },
     "metadata": {},
     "output_type": "display_data"
    }
   ],
   "source": [
    "@interact\n",
    "def interactive_ElGamal_decryption_algorithm( C1=input_box(34, label=\"C1:\", type=Integer),\n",
    "                                              C2=input_box(\"[17, 26, 37, 31, 28]\", label=\"C2:\", type=str),\n",
    "                                              secret_key=input_box(15, label=\"Klucz pryw:\", type=Integer),\n",
    "                                              public_key=input_box(\"(43,3,22)\", label=\"Klucz publ:\",type=str),\n",
    "                                              execute=checkbox(False, label=\"Rozszyfruj\")):\n",
    "    if execute == True:\n",
    "        cipher = (C1,eval(C2))\n",
    "        public_key = eval(public_key)\n",
    "        result = ElGamal_decryption_algorithm(cipher,secret_key,public_key)"
   ]
  },
  {
   "cell_type": "markdown",
   "id": "98a944f3",
   "metadata": {},
   "source": [
    "# Metoda przeliczania"
   ]
  },
  {
   "cell_type": "code",
   "execution_count": 15,
   "id": "cef313a9",
   "metadata": {},
   "outputs": [
    {
     "data": {
      "application/vnd.jupyter.widget-view+json": {
       "model_id": "3f45895a206a481bb74534d3b8ef2941",
       "version_major": 2,
       "version_minor": 0
      },
      "text/plain": [
       "Interactive function <function interactive_ElGamal_decryption_algorithm at 0x7fbd07fe7d80> with 4 widgets\n",
       "  a: EvalText(value='2', description='Wartość a:', layout=Layout(max_width='81em'))\n",
       "  b: EvalText(value='7', description='Wartość b', layout=Layout(max_width='81em'))\n",
       "  n: EvalText(value='557', description='Wartość n', layout=Layout(max_width='81em'))\n",
       "  execute: Checkbox(value=False, description='Oblicz')"
      ]
     },
     "metadata": {},
     "output_type": "display_data"
    }
   ],
   "source": [
    "@interact\n",
    "def interactive_ElGamal_decryption_algorithm( a=input_box(2, label=\"Wartość a:\", type=Integer),\n",
    "                                              b=input_box(7, label=\"Wartość b\", type=Integer),\n",
    "                                              n=input_box(557, label=\"Wartość n\", type=Integer),\n",
    "                                              execute=checkbox(False, label=\"Oblicz\")):\n",
    "    if execute == True:\n",
    "        result = Brute_force_method(a,b,n, details = True)"
   ]
  },
  {
   "cell_type": "markdown",
   "id": "61302bfd",
   "metadata": {},
   "source": [
    "# Alogrytm małych i wielkich kroków"
   ]
  },
  {
   "cell_type": "code",
   "execution_count": 16,
   "id": "b3449a23",
   "metadata": {},
   "outputs": [
    {
     "data": {
      "application/vnd.jupyter.widget-view+json": {
       "model_id": "71c86cc8e9be4a05945a8b0cd77567d1",
       "version_major": 2,
       "version_minor": 0
      },
      "text/plain": [
       "Interactive function <function interactive_baby_giant_step at 0x7fbd07fe5300> with 6 widgets\n",
       "  a: EvalText(value='2', description='Wartość a:', layout=Layout(max_width='81em'))\n",
       "  b: EvalText(value='7', description='Wartość b:', layout=Layout(max_width='81em'))\n",
       "  n: EvalText(value='557', description='Wartość n:', layout=Layout(max_width='81em'))\n",
       "  details: Checkbox(value=False, description='Szczegóły')\n",
       "  sets_display: Checkbox(value=False, description='Pokaż zbiory kroków')\n",
       "  calculate: Checkbox(value=False, description='Oblicz')"
      ]
     },
     "metadata": {},
     "output_type": "display_data"
    }
   ],
   "source": [
    "@interact\n",
    "def interactive_baby_giant_step(a=input_box(2, label=\"Wartość a:\", type=Integer),\n",
    "                                b=input_box(7, label=\"Wartość b:\", type=Integer),\n",
    "                                n=input_box(557, label=\"Wartość n:\", type=Integer),\n",
    "                                details=checkbox(False, label=\"Szczegóły\"),\n",
    "                                sets_display=checkbox(False, label=\"Pokaż zbiory kroków\"),\n",
    "                                calculate=checkbox(False, label=\"Oblicz\")):\n",
    "    if calculate:\n",
    "        if details:\n",
    "            if sets_display == False:\n",
    "                print(\"Szczegóły algorytmu:\")\n",
    "            else:\n",
    "                print(\"Szczegóły algorytmu, wraz ze zbiorami kroków:\")\n",
    "        result = Baby_giant_step(a, b, n, details, sets_display)\n",
    "        print(\"Wynik: x =\",result)\n",
    "        calculate = False\n",
    "        interactive_baby_giant_step.calculate = False"
   ]
  },
  {
   "cell_type": "markdown",
   "id": "4ffeae21",
   "metadata": {},
   "source": [
    "# Alogrytm Pohliga-Hellmana"
   ]
  },
  {
   "cell_type": "code",
   "execution_count": 17,
   "id": "4b144ca6",
   "metadata": {},
   "outputs": [
    {
     "data": {
      "application/vnd.jupyter.widget-view+json": {
       "model_id": "454f5ce6fa814b7c88c5ce7f52793ea9",
       "version_major": 2,
       "version_minor": 0
      },
      "text/plain": [
       "Interactive function <function interactive_pohlig_hellman at 0x7fbd07fe6de0> with 5 widgets\n",
       "  a: EvalText(value='2', description='Wartość a:', layout=Layout(max_width='81em'))\n",
       "  b: EvalText(value='7', description='Wartość b:', layout=Layout(max_width='81em'))\n",
       "  n: EvalText(value='557', description='Wartość n:', layout=Layout(max_width='81em'))\n",
       "  details: Checkbox(value=False, description='Szczegóły')\n",
       "  calculate: Checkbox(value=False, description='Oblicz')"
      ]
     },
     "metadata": {},
     "output_type": "display_data"
    }
   ],
   "source": [
    "@interact\n",
    "def interactive_pohlig_hellman(a=input_box(2, label=\"Wartość a:\", type=Integer),\n",
    "                               b=input_box(7, label=\"Wartość b:\", type=Integer),\n",
    "                               n=input_box(557, label=\"Wartość n:\", type=Integer),\n",
    "                               details=checkbox(False, label=\"Szczegóły\"),\n",
    "                               calculate=checkbox(False, label=\"Oblicz\")):\n",
    "    if calculate:\n",
    "        if details:\n",
    "            print(\"Szczegóły algorytmu:\")\n",
    "        result = Pohlig_Hellman_algorithm(a, b, n, details)\n",
    "        print(\"Wynik: x =\",result)\n",
    "        calculate = False\n",
    "        interactive_pohlig_hellman.calculate = False"
   ]
  },
  {
   "cell_type": "markdown",
   "id": "6a506600",
   "metadata": {},
   "source": [
    "# Porównanie czasu działania algorytmów"
   ]
  },
  {
   "cell_type": "code",
   "execution_count": 18,
   "id": "f6dee1a7",
   "metadata": {},
   "outputs": [
    {
     "data": {
      "application/vnd.jupyter.widget-view+json": {
       "model_id": "b60fd34232b248adac373b4d457293e1",
       "version_major": 2,
       "version_minor": 0
      },
      "text/plain": [
       "Interactive function <function interactive_compare_algorithms at 0x7fbd07fe6a20> with 4 widgets\n",
       "  a: EvalText(value='2', description='Wartość a:', layout=Layout(max_width='81em'))\n",
       "  b: EvalText(value='7', description='Wartość b:', layout=Layout(max_width='81em'))\n",
       "  n: EvalText(value='1344546617', description='Wartość n:', layout=Layout(max_width='81em'))\n",
       "  calculate: Checkbox(value=False, description='Porównaj')"
      ]
     },
     "metadata": {},
     "output_type": "display_data"
    }
   ],
   "source": [
    "@interact\n",
    "def interactive_compare_algorithms(a=input_box(2, label=\"Wartość a:\", type=Integer),\n",
    "                               b=input_box(7, label=\"Wartość b:\", type=Integer),\n",
    "                               n=input_box(1344546617, label=\"Wartość n:\", type=Integer),\n",
    "                               calculate=checkbox(False, label=\"Porównaj\")):\n",
    "    if calculate:\n",
    "        result = Compare_algorithms(a,b,n)"
   ]
  },
  {
   "cell_type": "code",
   "execution_count": 19,
   "id": "375efd29",
   "metadata": {},
   "outputs": [
    {
     "name": "stdout",
     "output_type": "stream",
     "text": [
      "Czas wykonania metody przeliczania: 147.0667700767517 sekund\n",
      "\n",
      "Czas wykonania algorytmu małych i wielkich kroków: 33.723758935928345 sekund\n",
      "\n",
      "Czas wykonania alogrytmu Diffiego-Hellmana: 0.008737564086914062 sekund\n"
     ]
    }
   ],
   "source": [
    "Compare_algorithms(2,7,1344546617)"
   ]
  },
  {
   "cell_type": "code",
   "execution_count": null,
   "id": "fb32c483",
   "metadata": {},
   "outputs": [],
   "source": []
  }
 ],
 "metadata": {
  "kernelspec": {
   "display_name": "SageMath 10.2",
   "language": "sage",
   "name": "sagemath"
  },
  "language_info": {
   "codemirror_mode": {
    "name": "ipython",
    "version": 3
   },
   "file_extension": ".py",
   "mimetype": "text/x-python",
   "name": "python",
   "nbconvert_exporter": "python",
   "pygments_lexer": "ipython3",
   "version": "3.11.1"
  }
 },
 "nbformat": 4,
 "nbformat_minor": 5
}
