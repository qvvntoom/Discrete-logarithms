{
 "cells": [
  {
   "cell_type": "markdown",
   "id": "8fad31c6",
   "metadata": {},
   "source": [
    "# Funkcje:"
   ]
  },
  {
   "cell_type": "code",
   "execution_count": 3,
   "id": "65002208",
   "metadata": {},
   "outputs": [],
   "source": [
    "### WYMIANA KLUCZA DIFFIEGO-HELLMANA\n",
    "def Diffie_Hellman_key_exchange(p,g,a,b):\n",
    "    \n",
    "    if is_prime(p) == True:\n",
    "    \n",
    "        if Mod(g,p).is_primitive_root() == True:\n",
    "            \n",
    "            x = power_mod(g,a,p)\n",
    "            y = power_mod(g,b,p)\n",
    "            s_k_a = power_mod(y,a,p)\n",
    "            s_k_b = power_mod(x,b,p)\n",
    "            s_k_a_b = power_mod(g,a*b,p)\n",
    "\n",
    "            print(\"Użytkownicy uzgodnili liczbę pierwszą p = \",p)\n",
    "            print(\"\")\n",
    "            print(\"Za jej pierwiastek pierwotny wzięli liczbę g = \",g)\n",
    "            print(\"\")\n",
    "            print(\"Użytkownik A wybrał tajną liczbę :\",a,\", oraz przesłał użytkownikowi B wartość :\",x)\n",
    "            print(\"\")\n",
    "            print(\"Użytkownik B wybrał tajną liczbę :\",b,\", oraz przesłał użytkownikowi A wartość :\",y)\n",
    "            print(\"\")\n",
    "            print(\"Wspólnym tajnym kluczem obliczonym przez A jest :\",s_k_a)\n",
    "            print(\"\")\n",
    "            print(\"Wspólnym tajnym kluczem obliczonym przez B jest :\",s_k_b)\n",
    "            print(\"\")\n",
    "            print(\"Sprawdzamy zgodność kluczy :\",s_k_a_b)\n",
    "            \n",
    "        else:\n",
    "            print(\"Uzgodniona liczba g nie jest pierwiastkiem pierwotnym.\")\n",
    "    else:\n",
    "        print(\"Wybrana liczba p nie jest pierwsza.\")\n",
    "\n",
    "### ALGORYTM GENEROWANIA KLUCZA ELGAMAL        \n",
    "def ElGamal_public_key(p,g,k):\n",
    "    \n",
    "    if is_prime(p) == True:\n",
    "        \n",
    "        if Mod(g,p).is_primitive_root() == True:\n",
    "\n",
    "            if k > 0 and k < p-1:\n",
    "                x = power_mod(g,k,p)\n",
    "                print(\"Użytkownik wybrał liczbę pierwszą: p = \",p)\n",
    "                print(\"\")\n",
    "                print(\"Za jej pierwiastek pierwotny wziął liczbę: g = \",g)\n",
    "                print(\"\")\n",
    "                print(\"Jego kluczem prywatnym jest liczba: k = \",k)\n",
    "                print(\"\")\n",
    "                print(\"Klucz publiczny tego użytkownika to trójka:\",(p,g,x))\n",
    "                K = (p,g,x)\n",
    "                \n",
    "            else:\n",
    "                print(\"Liczba wybrana przez użytkownika jest nieodpowiednia.\")\n",
    "        else:\n",
    "            print(\"Uzgodniona liczba g nie jest pierwiastkiem pierwotnym.\")\n",
    "    else:\n",
    "        print(\"Wybrana liczba p nie jest pierwsza.\")\n",
    "        \n",
    "    return K\n",
    "\n",
    "### FUNKCJE POMOCNICZE\n",
    "def letters_to_indices(s):\n",
    "    return [ord(char.upper()) - ord('A') for char in s if char.isalpha()]\n",
    "\n",
    "def indices_to_letters(indices):\n",
    "    return ''.join(chr(index + ord('A')) for index in indices)\n",
    "\n",
    "\n",
    "### ALGORYTM SZYFROWANIA ELGAMAL\n",
    "def ElGamal_encryption_algorithm(message,users_key,j):\n",
    "    p = users_key[0]\n",
    "    g = users_key[1]\n",
    "    x = users_key[2]\n",
    "    \n",
    "    if j > 0 and j < p-1:\n",
    "        M = letters_to_indices(message)\n",
    "\n",
    "        C1 = power_mod(g,j,p)\n",
    "        xj = power_mod(x,j,p)\n",
    "\n",
    "        cipher = [(M[k]*xj)%p for k in range(len(M))]\n",
    "        cipher_output = (C1,cipher)\n",
    "        \n",
    "        print(\"Użytkownik chce przesłać wiadomość do osoby o kluczu publicznym :\",users_key)\n",
    "        print(\"\")\n",
    "        print(\"Wiadomość którą chce wysłać to :\",message)\n",
    "        print(\"\")\n",
    "        print(\"Wybrał liczbę j = \",j)\n",
    "        print(\"\")\n",
    "        print(\"Szyfrogramem jego wiadomośći jest :\",cipher_output)\n",
    "    else:\n",
    "        print(\"Wybrana liczba j jest nieodpowiednia.\")\n",
    "    \n",
    "    return cipher_output\n",
    "\n",
    "\n",
    "### ALGORYTM DESZYFROWANIA ELGAMAL\n",
    "def ElGamal_decryption_algorithm(cipher,secret_key,public_key):\n",
    "    C1 = cipher[0]\n",
    "    cipher_input = cipher[1]\n",
    "    k = secret_key\n",
    "    p = public_key[0]\n",
    "    \n",
    "    C1_rec = power_mod(C1,-k,p)\n",
    "    decripted_cipher = [(cipher_input[k]*C1_rec)%p for k in range(len(cipher_input))]\n",
    "    \n",
    "    decrypted_message = indices_to_letters(decripted_cipher)\n",
    "    \n",
    "    print(\"Odszyfrowana wiadomość to:\", decrypted_message)\n",
    "    \n",
    "    return decrypted_message\n",
    "\n",
    "\n",
    "### METODA PRZELICZANIA\n",
    "def Brute_force_method(a,b,n, details = False):\n",
    "    if details == True:\n",
    "        print(\"Rozważamy zagadnienie:\",a,\"^x =\",b,\"( mod\",n,\")\\n\")\n",
    "    al = Mod(b,n)\n",
    "    bl = Mod(a,n)\n",
    "    i = 0\n",
    "    y = Mod(1,n)\n",
    "    while True:\n",
    "        y = y*bl\n",
    "        if y ==al:\n",
    "            break\n",
    "        i +=1\n",
    "    if details == True:\n",
    "        print(\"Wynik końcowy x =\", i+1)\n",
    "    return i+1\n",
    "\n",
    "### ALGORYTM MAŁYCH I WIELKICH KROKÓW\n",
    "def Baby_giant_step(a,b,n,details = False, sets_display=False):\n",
    "    Zn = Integers(n)\n",
    "    al = Zn(b)\n",
    "    bl = Zn(a)\n",
    "    m = ceil(sqrt(n))\n",
    "    B = [al*bl^(-r) for r in range(m)]\n",
    "    delta = bl^Integer(m)\n",
    "    j = 0\n",
    "    delq = Zn(1)\n",
    "    delty = []\n",
    "    if details == True:\n",
    "        print(\"Rozważamy zagadnienie:\",a,\"^x =\",b,\"( mod\",n,\")\\n\")\n",
    "        print(\"m =\",m)\n",
    "        print(\"\")\n",
    "    while j<m:\n",
    "        j += 1\n",
    "        delq = delq * delta\n",
    "        delty.append(delq)\n",
    "        for i in range(m):\n",
    "            if delq==B[i]:\n",
    "                x = m*j + i\n",
    "                j=m\n",
    "                break\n",
    "    if details == True:\n",
    "        if sets_display == True:\n",
    "            print(\"Zbiór małych kroków:\")\n",
    "            print(B)\n",
    "            print(\"\")\n",
    "            print(\"Zbiór wielkich kroków:\")\n",
    "            print(delty)\n",
    "            print(\"\")\n",
    "        print(\"Pierwszy element zbioru wielkich kroków, który pokrył się z poprzednikiem w zbiorze małych kroków, to:\",delq)\n",
    "        print(\"\")\n",
    "        print(\"Ma on numer: j =\",len(delty),\", oraz odpowiada małemu krokowi z numerem: i =\",B.index(delq))\n",
    "        print(\"\")\n",
    "        print(\"Zgodnie ze wzorem, mamy: x =\",len(delty),\"*\",m,\"+\",B.index(delq))\n",
    "        print(\"\")\n",
    "        print(\"Wynik końcowy: x =\",x)\n",
    "    return x\n",
    "\n",
    "\n",
    "### ALGORYTM POHLIGA-HELLMANA\n",
    "def Pohlig_Hellman_algorithm(a,b,n, details = False):\n",
    "    if details == True:\n",
    "        print(\"Zagadnienie:\",a,\"^x =\",b,\"( mod\",n,\"), można zastąpić przez: \\n\")\n",
    "    fa = factor(n-1)\n",
    "    fl = len(fa)\n",
    "    x=[]\n",
    "    y=[]\n",
    "    p_list=[]\n",
    "    e_list=[]\n",
    "    for i in range(fl):\n",
    "        p=fa[i][0]\n",
    "        e=fa[i][1]\n",
    "        np = (n-1)/p^e\n",
    "        bp = power_mod(b,np,n)\n",
    "        ap = power_mod(a,np,n)\n",
    "        \n",
    "        disc = discrete_log(Mod(bp,n),Mod(ap,n))\n",
    "        p_list.append(p)\n",
    "        e_list.append(e)\n",
    "        x.append(disc)\n",
    "        y.append(fa[i][0]^fa[i][1])\n",
    "        if details == True:\n",
    "            print(ap,\"^x(\",p,\") =\",bp,\" (mod\",n,\") z rozwiązaniem x(\",p,\") = \", disc) \n",
    "    if details == True:\n",
    "        print(\"\")\n",
    "        print(\"Zgodnie z twierdzeniem:\")\n",
    "        for i in range(fl):\n",
    "            print(\"x =\",x[i],\" (mod\", p_list[i],\"^\",e_list[i],\")\")\n",
    "\n",
    "        print(\"\\nWynik końcowy: x =\",CRT_list(x,y))\n",
    "    return CRT_list(x,y)\n",
    "\n",
    "### PORÓWNANIE ALGORYTMÓW\n",
    "import time\n",
    "def Compare_algorithms(a,b,n):\n",
    "    start_time = time.time()\n",
    "    result = Brute_force_method(a, b, n)\n",
    "    end_time = time.time()\n",
    "    elapsed_time = end_time - start_time\n",
    "    print(\"Czas wykonania: Metoda przeliczania:\",elapsed_time,\"sekund\\n\")\n",
    "    \n",
    "    start_time = time.time()\n",
    "    result = Baby_giant_step(a, b, n)\n",
    "    end_time = time.time()\n",
    "    elapsed_time = end_time - start_time\n",
    "    print(\"Czas wykonania: Algorytm małych i wielkich kroków:\",elapsed_time,\"sekund\\n\")\n",
    "    \n",
    "    start_time = time.time()\n",
    "    result = Pohlig_Hellman_algorithm(a, b, n)\n",
    "    end_time = time.time()\n",
    "    elapsed_time = end_time - start_time\n",
    "    print(\"Czas wykonania: Algorytm Diffiego-Hellmana:\",elapsed_time,\"sekund\")"
   ]
  },
  {
   "cell_type": "markdown",
   "id": "143d3227",
   "metadata": {},
   "source": [
    "# Wymiana klucza Diffiego-Hellmana"
   ]
  },
  {
   "cell_type": "code",
   "execution_count": 5,
   "id": "31402282",
   "metadata": {},
   "outputs": [
    {
     "name": "stdout",
     "output_type": "stream",
     "text": [
      "Użytkownicy uzgodnili liczbę pierwszą p =  19\n",
      "\n",
      "Za jej pierwiastek pierwotny wzięli liczbę g =  2\n",
      "\n",
      "Użytkownik A wybrał tajną liczbę : 7 , oraz przesłał użytkownikowi B wartość : 14\n",
      "\n",
      "Użytkownik B wybrał tajną liczbę : 4 , oraz przesłał użytkownikowi A wartość : 16\n",
      "\n",
      "Wspólnym tajnym kluczem obliczonym przez A jest : 17\n",
      "\n",
      "Wspólnym tajnym kluczem obliczonym przez B jest : 17\n",
      "\n",
      "Sprawdzamy zgodność kluczy : 17\n"
     ]
    }
   ],
   "source": [
    "p=19\n",
    "g=2\n",
    "a=7\n",
    "b=4\n",
    "Diffie_Hellman_key_exchange(p,g,a,b)\n"
   ]
  },
  {
   "cell_type": "markdown",
   "id": "c5059602",
   "metadata": {},
   "source": [
    "# Generowanie klucza w systemie ElGamal'a"
   ]
  },
  {
   "cell_type": "code",
   "execution_count": 6,
   "id": "225c9204",
   "metadata": {},
   "outputs": [
    {
     "name": "stdout",
     "output_type": "stream",
     "text": [
      "Użytkownik wybrał liczbę pierwszą: p =  113\n",
      "\n",
      "Za jej pierwiastek pierwotny wziął liczbę: g =  3\n",
      "\n",
      "Jego kluczem prywatnym jest liczba: k =  37\n",
      "\n",
      "Klucz publiczny tego użytkownika to trójka: (113, 3, 24)\n"
     ]
    },
    {
     "data": {
      "text/plain": [
       "(113, 3, 24)"
      ]
     },
     "execution_count": 6,
     "metadata": {},
     "output_type": "execute_result"
    }
   ],
   "source": [
    "p=113\n",
    "g=3\n",
    "k=37\n",
    "ElGamal_public_key(p,g,k)"
   ]
  },
  {
   "cell_type": "markdown",
   "id": "df769737",
   "metadata": {},
   "source": [
    "# Algorytm szyfrowania ElGamal"
   ]
  },
  {
   "cell_type": "code",
   "execution_count": 8,
   "id": "b4294d0e",
   "metadata": {},
   "outputs": [
    {
     "name": "stdout",
     "output_type": "stream",
     "text": [
      "Użytkownik chce przesłać wiadomość do osoby o kluczu publicznym : (43, 3, 22)\n",
      "\n",
      "Wiadomość którą chce wysłać to : SZYFR\n",
      "\n",
      "Wybrał liczbę j =  23\n",
      "\n",
      "Szyfrogramem jego wiadomośći jest : (34, [17, 26, 37, 31, 28])\n"
     ]
    },
    {
     "data": {
      "text/plain": [
       "(34, [17, 26, 37, 31, 28])"
      ]
     },
     "execution_count": 8,
     "metadata": {},
     "output_type": "execute_result"
    }
   ],
   "source": [
    "message=\"SZYFR\"\n",
    "users_key=(43,3,22)\n",
    "j=23\n",
    "ElGamal_encryption_algorithm(message,users_key,j)"
   ]
  },
  {
   "cell_type": "markdown",
   "id": "d5b84bdd",
   "metadata": {},
   "source": [
    "# Algorytm deszyfrowania ElGamal"
   ]
  },
  {
   "cell_type": "code",
   "execution_count": 12,
   "id": "2c426cc5",
   "metadata": {},
   "outputs": [
    {
     "name": "stdout",
     "output_type": "stream",
     "text": [
      "Odszyfrowana wiadomość to: SZYFR\n"
     ]
    },
    {
     "data": {
      "text/plain": [
       "'SZYFR'"
      ]
     },
     "execution_count": 12,
     "metadata": {},
     "output_type": "execute_result"
    }
   ],
   "source": [
    "C1=34\n",
    "C2=\"[17, 26, 37, 31, 28]\"\n",
    "secret_key=15\n",
    "public_key=\"(43,3,22)\"\n",
    "\n",
    "cipher = (C1,eval(C2))\n",
    "public_key = eval(public_key)\n",
    "ElGamal_decryption_algorithm(cipher,secret_key,public_key)"
   ]
  },
  {
   "cell_type": "markdown",
   "id": "98a944f3",
   "metadata": {},
   "source": [
    "# Metoda przeliczania"
   ]
  },
  {
   "cell_type": "code",
   "execution_count": 13,
   "id": "cef313a9",
   "metadata": {},
   "outputs": [
    {
     "name": "stdout",
     "output_type": "stream",
     "text": [
      "Rozważamy zagadnienie: 2 ^x = 7 ( mod 557 )\n",
      "\n",
      "Wynik końcowy x = 458\n"
     ]
    },
    {
     "data": {
      "text/plain": [
       "458"
      ]
     },
     "execution_count": 13,
     "metadata": {},
     "output_type": "execute_result"
    }
   ],
   "source": [
    "a=2\n",
    "b=7\n",
    "n=557\n",
    "Brute_force_method(a,b,n, details = True)"
   ]
  },
  {
   "cell_type": "markdown",
   "id": "61302bfd",
   "metadata": {},
   "source": [
    "# Alogrytm małych i wielkich kroków"
   ]
  },
  {
   "cell_type": "code",
   "execution_count": 14,
   "id": "b3449a23",
   "metadata": {},
   "outputs": [
    {
     "name": "stdout",
     "output_type": "stream",
     "text": [
      "Rozważamy zagadnienie: 2 ^x = 7 ( mod 557 )\n",
      "\n",
      "m = 24\n",
      "\n",
      "Zbiór małych kroków:\n",
      "[7, 282, 141, 349, 453, 505, 531, 544, 272, 136, 68, 34, 17, 287, 422, 211, 384, 192, 96, 48, 24, 12, 6, 3]\n",
      "\n",
      "Zbiór wielkich kroków:\n",
      "[376, 455, 81, 378, 93, 434, 540, 292, 63, 294, 258, 90, 420, 289, 49, 43, 15, 70, 141]\n",
      "\n",
      "Pierwszy element zbioru wielkich kroków, który pokrył się z poprzednikiem w zbiorze małych kroków, to: 141\n",
      "\n",
      "Ma on numer: j = 19 , oraz odpowiada małemu krokowi z numerem: i = 2\n",
      "\n",
      "Zgodnie ze wzorem, mamy: x = 19 * 24 + 2\n",
      "\n",
      "Wynik końcowy: x = 458\n"
     ]
    },
    {
     "data": {
      "text/plain": [
       "458"
      ]
     },
     "execution_count": 14,
     "metadata": {},
     "output_type": "execute_result"
    }
   ],
   "source": [
    "a=2\n",
    "b=7\n",
    "n=557\n",
    "details=True\n",
    "sets_display=True\n",
    "Baby_giant_step(a, b, n, details, sets_display)"
   ]
  },
  {
   "cell_type": "markdown",
   "id": "4ffeae21",
   "metadata": {},
   "source": [
    "# Alogrytm Pohliga-Hellmana"
   ]
  },
  {
   "cell_type": "code",
   "execution_count": 15,
   "id": "4b144ca6",
   "metadata": {},
   "outputs": [
    {
     "name": "stdout",
     "output_type": "stream",
     "text": [
      "Zagadnienie: 2 ^x = 7 ( mod 557 ), można zastąpić przez: \n",
      "\n",
      "118 ^x( 2 ) = 556  (mod 557 ) z rozwiązaniem x( 2 ) =  2\n",
      "16 ^x( 139 ) = 173  (mod 557 ) z rozwiązaniem x( 139 ) =  41\n",
      "\n",
      "Zgodnie z twierdzeniem:\n",
      "x = 2  (mod 2 ^ 2 )\n",
      "x = 41  (mod 139 ^ 1 )\n",
      "\n",
      "Wynik końcowy: x = 458\n"
     ]
    },
    {
     "data": {
      "text/plain": [
       "458"
      ]
     },
     "execution_count": 15,
     "metadata": {},
     "output_type": "execute_result"
    }
   ],
   "source": [
    "a=2\n",
    "b=7\n",
    "n=557\n",
    "details=True\n",
    "Pohlig_Hellman_algorithm(a, b, n, details)"
   ]
  },
  {
   "cell_type": "markdown",
   "id": "6a506600",
   "metadata": {},
   "source": [
    "# Porównanie czasu działania algorytmów"
   ]
  },
  {
   "cell_type": "code",
   "execution_count": 19,
   "id": "375efd29",
   "metadata": {},
   "outputs": [
    {
     "name": "stdout",
     "output_type": "stream",
     "text": [
      "Czas wykonania metody przeliczania: 147.0667700767517 sekund\n",
      "\n",
      "Czas wykonania algorytmu małych i wielkich kroków: 33.723758935928345 sekund\n",
      "\n",
      "Czas wykonania alogrytmu Diffiego-Hellmana: 0.008737564086914062 sekund\n"
     ]
    }
   ],
   "source": [
    "Compare_algorithms(2,7,1344546617)"
   ]
  }
 ],
 "metadata": {
  "kernelspec": {
   "display_name": "SageMath 10.2",
   "language": "sage",
   "name": "sagemath"
  },
  "language_info": {
   "codemirror_mode": {
    "name": "ipython",
    "version": 3
   },
   "file_extension": ".py",
   "mimetype": "text/x-python",
   "name": "python",
   "nbconvert_exporter": "python",
   "pygments_lexer": "ipython3",
   "version": "3.11.1"
  }
 },
 "nbformat": 4,
 "nbformat_minor": 5
}
